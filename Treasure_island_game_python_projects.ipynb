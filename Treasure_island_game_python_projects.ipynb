{
 "cells": [
  {
   "cell_type": "code",
   "execution_count": 2,
   "id": "bd2b28c0",
   "metadata": {},
   "outputs": [
    {
     "name": "stdout",
     "output_type": "stream",
     "text": [
      "Welcome to Treasure Island.\n",
      "Your Mission is to find the treasure.\n",
      "You are at a road, Where do you want to go? Type right or left: left\n",
      "You arrived near port, there is an island in the middle of the ocean, Type wait for boat. Type swim to swim across: wait\n",
      "You arrived to an island. There is a house with three door, one is red,other is white and third is black, which colour do you choose? white\n",
      "Congrulations,You won a Treasure\n",
      "Game End\n"
     ]
    }
   ],
   "source": [
    "print(\"Welcome to Treasure Island.\\nYour Mission is to find the treasure.\")\n",
    "\n",
    "step1=input(\"You are at a road, Where do you want to go? Type right or left: \").lower()\n",
    "if step1==\"left\":\n",
    "    step2=input(\"You arrived near port, there is an island in the middle of the ocean, Type wait for boat. Type swim to swim across: \").lower()\n",
    "    if step2==\"wait\":\n",
    "        step3=input(\"You arrived to an island. There is a house with three door, one is red,other is white and third is black, which colour do you choose? \").lower()\n",
    "        if step3==\"white\":\n",
    "            print(\"Congrulations,You won a Treasure\")\n",
    "        elif(step3==\"red\"):\n",
    "            print(\"You are caught by snake, Game over\")\n",
    "        elif(step3==\"black\"):\n",
    "            print(\"You are attacked by Dragon, Game over\")\n",
    "        else:\n",
    "            print(\"Your entered a wrong syntax\")\n",
    "    elif(step2==\"swim\"):\n",
    "        print(\"You are eaten by shark, Game over\")\n",
    "    else:\n",
    "        print(\"You entered a wrong syntax\")\n",
    "elif(step1==\"right\"):\n",
    "    print(\"You fell into the hole, Game over\")\n",
    "else:\n",
    "    print(\"Your entered a wrong syntax\")\n",
    "\n",
    "print(\"Game End\")"
   ]
  },
  {
   "cell_type": "code",
   "execution_count": null,
   "id": "8335bb3e",
   "metadata": {},
   "outputs": [],
   "source": []
  }
 ],
 "metadata": {
  "kernelspec": {
   "display_name": "Python 3 (ipykernel)",
   "language": "python",
   "name": "python3"
  },
  "language_info": {
   "codemirror_mode": {
    "name": "ipython",
    "version": 3
   },
   "file_extension": ".py",
   "mimetype": "text/x-python",
   "name": "python",
   "nbconvert_exporter": "python",
   "pygments_lexer": "ipython3",
   "version": "3.9.12"
  }
 },
 "nbformat": 4,
 "nbformat_minor": 5
}
